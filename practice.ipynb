{
 "cells": [
  {
   "cell_type": "code",
   "execution_count": null,
   "metadata": {},
   "outputs": [],
   "source": [
    "def user_input():\n",
    "\n",
    "    choice = 'wrong'\n",
    "    in_range = False\n",
    "\n",
    "    while choice.isdigit() == False or in_range == False:\n",
    "\n",
    "        choice = input('Please enter a number (1-10): ')\n",
    "\n",
    "        if choice.isdigit() == False:\n",
    "            print('Sorry that is not a digit!')\n",
    "\n",
    "        if choice.isdigit() == True:\n",
    "            if int(choice) in range(0,10):\n",
    "                in_range = True\n",
    "            else:\n",
    "                in_range = False\n",
    "    \n",
    "    return int(choice)\n",
    "\n",
    "user_input"
   ]
  }
 ],
 "metadata": {
  "kernelspec": {
   "display_name": "Python 3",
   "language": "python",
   "name": "python3"
  },
  "language_info": {
   "name": "python",
   "version": "3.11.2"
  },
  "orig_nbformat": 4
 },
 "nbformat": 4,
 "nbformat_minor": 2
}
